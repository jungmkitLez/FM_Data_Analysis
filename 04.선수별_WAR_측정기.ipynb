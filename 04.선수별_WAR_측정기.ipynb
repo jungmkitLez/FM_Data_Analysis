{
 "cells": [
  {
   "cell_type": "markdown",
   "id": "3f7b833e",
   "metadata": {},
   "source": [
    "# 필요한 라이브러리 import"
   ]
  },
  {
   "cell_type": "code",
   "execution_count": 40,
   "id": "ecdb0774",
   "metadata": {
    "ExecuteTime": {
     "end_time": "2021-10-26T07:35:18.635447Z",
     "start_time": "2021-10-26T07:35:18.630449Z"
    }
   },
   "outputs": [],
   "source": [
    "import csv\n",
    "import pandas as pd\n",
    "import os\n",
    "import re"
   ]
  },
  {
   "cell_type": "markdown",
   "id": "9ed5b087",
   "metadata": {},
   "source": [
    "# csv 파일 만드는 함수"
   ]
  },
  {
   "cell_type": "code",
   "execution_count": 41,
   "id": "e4725c92",
   "metadata": {
    "ExecuteTime": {
     "end_time": "2021-10-26T07:35:18.997138Z",
     "start_time": "2021-10-26T07:35:18.990138Z"
    }
   },
   "outputs": [],
   "source": [
    "def csv_maker(df,path):\n",
    "\n",
    "    csv_file = open(str(path),'w',newline='',encoding='utf-8')\n",
    "    csvwriter = csv.writer(csv_file)\n",
    "    csvwriter.writerow(['이름','WAR'])\n",
    "    for i in range(len(df)):\n",
    "        csvwriter.writerow(df.loc[i,['이름','WAR']].tolist())\n",
    "    csv_file.close()"
   ]
  },
  {
   "cell_type": "markdown",
   "id": "26f3954e",
   "metadata": {},
   "source": [
    "# war 계산기"
   ]
  },
  {
   "cell_type": "code",
   "execution_count": 48,
   "id": "3780cb16",
   "metadata": {
    "ExecuteTime": {
     "end_time": "2021-10-26T07:59:13.054855Z",
     "start_time": "2021-10-26T07:59:13.040595Z"
    }
   },
   "outputs": [],
   "source": [
    "def war_calculator(file_path,season_path,forward_weights,defender_weights,midfielder_weights):\n",
    "\n",
    "    season_re = re.compile('\\d+')\n",
    "    league_re = re.compile('[a-zA-Z0-9]+')\n",
    "    league_list = league_re.findall(file_path)\n",
    "    season_list = season_re.findall(season_path)\n",
    "\n",
    "    all_df = pd.read_csv(file_path,encoding='utf-8')\n",
    "\n",
    "    forward_save_path = season_path+'/'+'WAR/'+league_list[8]+'-Forward'+'.csv'\n",
    "    defender_save_path = season_path+'/'+'WAR/'+league_list[8]+'-Defender'+'.csv'\n",
    "    midfielder_save_path = season_path+'/'+'WAR/'+league_list[8]+'-Midfielder'+'.csv'\n",
    "    \n",
    "\n",
    "    forward_df = all_df[all_df['포지션']=='공격수']\n",
    "    midfielder_df = all_df[all_df['포지션']=='미드필더']\n",
    "    defender_df = all_df[all_df['포지션']=='수비수']\n",
    "\n",
    "    forward_var_list = ['이름']+forward_weights.columns.tolist()[0:-1]+['표준획득승점']\n",
    "    midfielder_var_list = ['이름']+midfielder_weights.columns.tolist()[0:-1]+['표준획득승점']\n",
    "    defender_var_list = ['이름']+defender_weights.columns.tolist()[0:-1]+['표준획득승점']\n",
    "\n",
    "    forward_df = forward_df[forward_var_list]\n",
    "    midfielder_df = midfielder_df[midfielder_var_list]\n",
    "    defender_df = defender_df[defender_var_list]\n",
    "\n",
    "    forward_df['WAR'] = 0\n",
    "    midfielder_df['WAR'] = 0\n",
    "    defender_df['WAR'] = 0\n",
    "\n",
    "    forward_df = forward_df.reset_index(drop=True)\n",
    "    midfielder_df = midfielder_df.reset_index(drop=True)\n",
    "    defender_df = defender_df.reset_index(drop=True)\n",
    "\n",
    "    forward_bias = forward_weights.loc[0,'절편']\n",
    "    midfielder_bias = midfielder_weights.loc[0,'절편']\n",
    "    defender_bias = defender_weights.loc[0,'절편']\n",
    "\n",
    "\n",
    "    for i in range(len(forward_df)):\n",
    "\n",
    "        temp_df = forward_df.iloc[i,:]*forward_weights.iloc[:,0:-1]\n",
    "        war = temp_df.sum(axis=1).iloc[0]+forward_bias\n",
    "        forward_df.loc[i,'WAR'] = war\n",
    "\n",
    "    for i in range(len(midfielder_df)):\n",
    "\n",
    "        temp_df = midfielder_df.iloc[i,:]*midfielder_weights.iloc[:,0:-1]\n",
    "        war = temp_df.sum(axis=1).iloc[0]+midfielder_bias\n",
    "        midfielder_df.loc[i,'WAR'] = war\n",
    "\n",
    "    for i in range(len(defender_df)):\n",
    "\n",
    "        temp_df = defender_df.iloc[i,:]*defender_weights.iloc[:,0:-1]\n",
    "        war = temp_df.sum(axis=1).iloc[0]+defender_bias\n",
    "        defender_df.loc[i,'WAR'] = war\n",
    "\n",
    "    forward_df['WAR'] = forward_df['WAR']+(forward_df['WAR'].min()*-1)+1\n",
    "    midfielder_df['WAR'] = midfielder_df['WAR']+(midfielder_df['WAR'].min()*-1)+1\n",
    "    defender_df['WAR'] = defender_df['WAR']+(defender_df['WAR'].min()*-1)+1\n",
    "\n",
    "    forward_df['WAR'] = round(forward_df['WAR']/forward_df['WAR'].median()*100,2)\n",
    "    midfielder_df['WAR'] = round(midfielder_df['WAR']/midfielder_df['WAR'].median()*100,2)\n",
    "    defender_df['WAR'] = round(defender_df['WAR']/defender_df['WAR'].median()*100,2)\n",
    "\n",
    "    forward_df =forward_df.sort_values(by='WAR',ascending=False).reset_index(drop=True)\n",
    "    midfielder_df =midfielder_df.sort_values(by='WAR',ascending=False).reset_index(drop=True)\n",
    "    defender_df =defender_df.sort_values(by='WAR',ascending=False).reset_index(drop=True)\n",
    "\n",
    "    csv_maker(forward_df,forward_save_path)\n",
    "    csv_maker(midfielder_df,midfielder_save_path)\n",
    "    csv_maker(defender_df,defender_save_path)\n",
    "    "
   ]
  },
  {
   "cell_type": "code",
   "execution_count": 43,
   "id": "aboriginal-supervision",
   "metadata": {
    "ExecuteTime": {
     "end_time": "2021-10-26T07:35:20.475345Z",
     "start_time": "2021-10-26T07:35:20.461278Z"
    }
   },
   "outputs": [],
   "source": [
    "def fm_cal_war(target_path,weight_path,season):\n",
    "\n",
    "    forward_weights = pd.read_csv(weight_path+'/'+season+'/'+'forward_weights.csv',encoding='utf-8')\n",
    "    defender_weights = pd.read_csv(weight_path+'/'+season+'/'+'defender_weights.csv',encoding='utf-8')\n",
    "    midfielder_weights = pd.read_csv(weight_path+'/'+season+'/'+'midfielder_weights.csv',encoding='utf-8')\n",
    "\n",
    "    \n",
    "    # 매 폴더를 돌며\n",
    "    season_path = ''\n",
    "    season_path = target_path+'/'+season\n",
    "    file_list = os.listdir(season_path)\n",
    "\n",
    "    os.makedirs(target_path+'/'+season+'/WAR',exist_ok=True)\n",
    "\n",
    "    for file in file_list:\n",
    "        \n",
    "        file_path = season_path+'/'+file\n",
    "        #print(file_path)\n",
    "        war_calculator(file_path,season_path,forward_weights,defender_weights,midfielder_weights)"
   ]
  },
  {
   "cell_type": "code",
   "execution_count": 49,
   "id": "fewer-quantum",
   "metadata": {
    "ExecuteTime": {
     "end_time": "2021-10-26T07:59:30.239392Z",
     "start_time": "2021-10-26T07:59:26.965394Z"
    }
   },
   "outputs": [],
   "source": [
    "target_path = './datas/FM_DATA_MERGED'\n",
    "weight_path = './datas/FM_DATA_WEIGHT'\n",
    "season = '2020-2021'\n",
    "\n",
    "fm_cal_war(target_path,weight_path,season)"
   ]
  },
  {
   "cell_type": "code",
   "execution_count": null,
   "id": "radio-conditions",
   "metadata": {},
   "outputs": [],
   "source": []
  }
 ],
 "metadata": {
  "kernelspec": {
   "display_name": "Python 3",
   "language": "python",
   "name": "python3"
  },
  "language_info": {
   "codemirror_mode": {
    "name": "ipython",
    "version": 3
   },
   "file_extension": ".py",
   "mimetype": "text/x-python",
   "name": "python",
   "nbconvert_exporter": "python",
   "pygments_lexer": "ipython3",
   "version": "3.9.1"
  },
  "toc": {
   "base_numbering": 1,
   "nav_menu": {},
   "number_sections": true,
   "sideBar": true,
   "skip_h1_title": false,
   "title_cell": "Table of Contents",
   "title_sidebar": "Contents",
   "toc_cell": false,
   "toc_position": {},
   "toc_section_display": true,
   "toc_window_display": false
  },
  "varInspector": {
   "cols": {
    "lenName": 16,
    "lenType": 16,
    "lenVar": 40
   },
   "kernels_config": {
    "python": {
     "delete_cmd_postfix": "",
     "delete_cmd_prefix": "del ",
     "library": "var_list.py",
     "varRefreshCmd": "print(var_dic_list())"
    },
    "r": {
     "delete_cmd_postfix": ") ",
     "delete_cmd_prefix": "rm(",
     "library": "var_list.r",
     "varRefreshCmd": "cat(var_dic_list()) "
    }
   },
   "types_to_exclude": [
    "module",
    "function",
    "builtin_function_or_method",
    "instance",
    "_Feature"
   ],
   "window_display": false
  }
 },
 "nbformat": 4,
 "nbformat_minor": 5
}
