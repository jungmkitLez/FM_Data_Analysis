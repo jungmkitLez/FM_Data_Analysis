{
 "cells": [
  {
   "cell_type": "markdown",
   "id": "white-throw",
   "metadata": {},
   "source": [
    "# 필요한 라이브러리 import"
   ]
  },
  {
   "cell_type": "code",
   "execution_count": 8,
   "id": "minor-mechanics",
   "metadata": {
    "ExecuteTime": {
     "end_time": "2021-10-26T08:43:06.725212Z",
     "start_time": "2021-10-26T08:43:06.712212Z"
    }
   },
   "outputs": [],
   "source": [
    "import pandas as pd\n",
    "import os\n",
    "import re\n",
    "import csv\n",
    "from sklearn.model_selection import train_test_split\n",
    "from sklearn.ensemble import RandomForestClassifier\n",
    "from sklearn.metrics import accuracy_score\n",
    "from sklearn.preprocessing import StandardScaler\n",
    "from sklearn.model_selection import KFold\n",
    "import joblib"
   ]
  },
  {
   "cell_type": "markdown",
   "id": "norwegian-grass",
   "metadata": {},
   "source": [
    "# 선수의 포지션을 예측하는 모델 생성"
   ]
  },
  {
   "cell_type": "code",
   "execution_count": 3,
   "id": "silent-causing",
   "metadata": {
    "ExecuteTime": {
     "end_time": "2021-10-26T08:37:49.151134Z",
     "start_time": "2021-10-26T08:37:49.140134Z"
    }
   },
   "outputs": [],
   "source": [
    "# csv 파일을 불러와 데이터 프레임 생성\n",
    "# 이 데이터는 선수의 포지션을 공격,미드필더,수비 세부분으로 라벨링을 한 데이터입니다.\n",
    "position_df = pd.read_csv('./datas/new_position.csv',encoding='utf-8')"
   ]
  },
  {
   "cell_type": "code",
   "execution_count": 4,
   "id": "printable-output",
   "metadata": {
    "ExecuteTime": {
     "end_time": "2021-10-26T08:37:51.566387Z",
     "start_time": "2021-10-26T08:37:51.540387Z"
    }
   },
   "outputs": [
    {
     "data": {
      "text/html": [
       "<div>\n",
       "<style scoped>\n",
       "    .dataframe tbody tr th:only-of-type {\n",
       "        vertical-align: middle;\n",
       "    }\n",
       "\n",
       "    .dataframe tbody tr th {\n",
       "        vertical-align: top;\n",
       "    }\n",
       "\n",
       "    .dataframe thead th {\n",
       "        text-align: right;\n",
       "    }\n",
       "</style>\n",
       "<table border=\"1\" class=\"dataframe\">\n",
       "  <thead>\n",
       "    <tr style=\"text-align: right;\">\n",
       "      <th></th>\n",
       "      <th>이름</th>\n",
       "      <th>골</th>\n",
       "      <th>도움</th>\n",
       "      <th>태클 성공률</th>\n",
       "      <th>태클</th>\n",
       "      <th>헤더 시도</th>\n",
       "      <th>헤더 성공%</th>\n",
       "      <th>경기 당 드리블</th>\n",
       "      <th>드리블</th>\n",
       "      <th>패스 시도</th>\n",
       "      <th>패스 %</th>\n",
       "      <th>기회 창출/90</th>\n",
       "      <th>Int/90</th>\n",
       "      <th>달린 거리/90분</th>\n",
       "      <th>Cr A</th>\n",
       "      <th>Cr C/A</th>\n",
       "      <th>슈팅 수</th>\n",
       "      <th>유효 슈팅 %</th>\n",
       "      <th>구분</th>\n",
       "    </tr>\n",
       "  </thead>\n",
       "  <tbody>\n",
       "    <tr>\n",
       "      <th>0</th>\n",
       "      <td>Javi Manquillo</td>\n",
       "      <td>0</td>\n",
       "      <td>1</td>\n",
       "      <td>63</td>\n",
       "      <td>1.71</td>\n",
       "      <td>86</td>\n",
       "      <td>59</td>\n",
       "      <td>0.93</td>\n",
       "      <td>32</td>\n",
       "      <td>1006</td>\n",
       "      <td>79</td>\n",
       "      <td>0.06</td>\n",
       "      <td>2.67</td>\n",
       "      <td>7.8</td>\n",
       "      <td>89</td>\n",
       "      <td>34</td>\n",
       "      <td>16</td>\n",
       "      <td>6.0</td>\n",
       "      <td>미드필더</td>\n",
       "    </tr>\n",
       "    <tr>\n",
       "      <th>1</th>\n",
       "      <td>Joe Willock</td>\n",
       "      <td>2</td>\n",
       "      <td>5</td>\n",
       "      <td>72</td>\n",
       "      <td>1.40</td>\n",
       "      <td>56</td>\n",
       "      <td>21</td>\n",
       "      <td>0.00</td>\n",
       "      <td>0</td>\n",
       "      <td>997</td>\n",
       "      <td>83</td>\n",
       "      <td>0.48</td>\n",
       "      <td>1.03</td>\n",
       "      <td>7.6</td>\n",
       "      <td>65</td>\n",
       "      <td>26</td>\n",
       "      <td>28</td>\n",
       "      <td>43.0</td>\n",
       "      <td>미드필더</td>\n",
       "    </tr>\n",
       "    <tr>\n",
       "      <th>2</th>\n",
       "      <td>Allan Saint-Maximin</td>\n",
       "      <td>7</td>\n",
       "      <td>3</td>\n",
       "      <td>44</td>\n",
       "      <td>0.57</td>\n",
       "      <td>37</td>\n",
       "      <td>19</td>\n",
       "      <td>1.19</td>\n",
       "      <td>38</td>\n",
       "      <td>995</td>\n",
       "      <td>64</td>\n",
       "      <td>0.31</td>\n",
       "      <td>0.91</td>\n",
       "      <td>6.9</td>\n",
       "      <td>115</td>\n",
       "      <td>33</td>\n",
       "      <td>65</td>\n",
       "      <td>29.0</td>\n",
       "      <td>공격수</td>\n",
       "    </tr>\n",
       "    <tr>\n",
       "      <th>3</th>\n",
       "      <td>Miguel Almirón</td>\n",
       "      <td>6</td>\n",
       "      <td>4</td>\n",
       "      <td>74</td>\n",
       "      <td>0.57</td>\n",
       "      <td>56</td>\n",
       "      <td>27</td>\n",
       "      <td>0.81</td>\n",
       "      <td>24</td>\n",
       "      <td>979</td>\n",
       "      <td>79</td>\n",
       "      <td>0.27</td>\n",
       "      <td>1.05</td>\n",
       "      <td>8.8</td>\n",
       "      <td>55</td>\n",
       "      <td>29</td>\n",
       "      <td>33</td>\n",
       "      <td>39.0</td>\n",
       "      <td>미드필더</td>\n",
       "    </tr>\n",
       "    <tr>\n",
       "      <th>4</th>\n",
       "      <td>Jamal Lewis</td>\n",
       "      <td>0</td>\n",
       "      <td>2</td>\n",
       "      <td>75</td>\n",
       "      <td>1.50</td>\n",
       "      <td>88</td>\n",
       "      <td>59</td>\n",
       "      <td>0.00</td>\n",
       "      <td>0</td>\n",
       "      <td>953</td>\n",
       "      <td>78</td>\n",
       "      <td>0.07</td>\n",
       "      <td>1.41</td>\n",
       "      <td>8.3</td>\n",
       "      <td>71</td>\n",
       "      <td>33</td>\n",
       "      <td>8</td>\n",
       "      <td>0.0</td>\n",
       "      <td>미드필더</td>\n",
       "    </tr>\n",
       "  </tbody>\n",
       "</table>\n",
       "</div>"
      ],
      "text/plain": [
       "                    이름  골  도움  태클 성공률    태클  헤더 시도  헤더 성공%  경기 당 드리블  드리블  \\\n",
       "0       Javi Manquillo  0   1      63  1.71     86      59      0.93   32   \n",
       "1          Joe Willock  2   5      72  1.40     56      21      0.00    0   \n",
       "2  Allan Saint-Maximin  7   3      44  0.57     37      19      1.19   38   \n",
       "3       Miguel Almirón  6   4      74  0.57     56      27      0.81   24   \n",
       "4          Jamal Lewis  0   2      75  1.50     88      59      0.00    0   \n",
       "\n",
       "   패스 시도  패스 %  기회 창출/90  Int/90  달린 거리/90분  Cr A  Cr C/A  슈팅 수  유효 슈팅 %    구분  \n",
       "0   1006    79      0.06    2.67        7.8    89      34    16      6.0  미드필더  \n",
       "1    997    83      0.48    1.03        7.6    65      26    28     43.0  미드필더  \n",
       "2    995    64      0.31    0.91        6.9   115      33    65     29.0   공격수  \n",
       "3    979    79      0.27    1.05        8.8    55      29    33     39.0  미드필더  \n",
       "4    953    78      0.07    1.41        8.3    71      33     8      0.0  미드필더  "
      ]
     },
     "execution_count": 4,
     "metadata": {},
     "output_type": "execute_result"
    }
   ],
   "source": [
    "# 필요한 행만 추출\n",
    "position_df = position_df[['이름','골','도움','태클 성공률','태클','헤더 시도','헤더 성공%','경기 당 드리블','드리블','패스 시도','패스 %','기회 창출/90','Int/90','달린 거리/90분','Cr A','Cr C/A','슈팅 수','유효 슈팅 %','구분']]\n",
    "\n",
    "# nan 을 데이터로 가진 행을 0으로 대체\n",
    "position_df = position_df.fillna(0)\n",
    "\n",
    "position_df.head(5)"
   ]
  },
  {
   "cell_type": "code",
   "execution_count": 5,
   "id": "suspected-worry",
   "metadata": {
    "ExecuteTime": {
     "end_time": "2021-10-26T08:41:29.480903Z",
     "start_time": "2021-10-26T08:41:29.454903Z"
    }
   },
   "outputs": [
    {
     "data": {
      "text/html": [
       "<div>\n",
       "<style scoped>\n",
       "    .dataframe tbody tr th:only-of-type {\n",
       "        vertical-align: middle;\n",
       "    }\n",
       "\n",
       "    .dataframe tbody tr th {\n",
       "        vertical-align: top;\n",
       "    }\n",
       "\n",
       "    .dataframe thead th {\n",
       "        text-align: right;\n",
       "    }\n",
       "</style>\n",
       "<table border=\"1\" class=\"dataframe\">\n",
       "  <thead>\n",
       "    <tr style=\"text-align: right;\">\n",
       "      <th></th>\n",
       "      <th>이름</th>\n",
       "      <th>골</th>\n",
       "      <th>도움</th>\n",
       "      <th>태클 성공률</th>\n",
       "      <th>태클</th>\n",
       "      <th>헤더 시도</th>\n",
       "      <th>헤더 성공%</th>\n",
       "      <th>경기 당 드리블</th>\n",
       "      <th>드리블</th>\n",
       "      <th>패스 시도</th>\n",
       "      <th>패스 %</th>\n",
       "      <th>기회 창출/90</th>\n",
       "      <th>Int/90</th>\n",
       "      <th>달린 거리/90분</th>\n",
       "      <th>Cr A</th>\n",
       "      <th>Cr C/A</th>\n",
       "      <th>슈팅 수</th>\n",
       "      <th>유효 슈팅 %</th>\n",
       "      <th>구분</th>\n",
       "    </tr>\n",
       "  </thead>\n",
       "  <tbody>\n",
       "    <tr>\n",
       "      <th>0</th>\n",
       "      <td>Javi Manquillo</td>\n",
       "      <td>-0.798046</td>\n",
       "      <td>-0.612579</td>\n",
       "      <td>-0.342579</td>\n",
       "      <td>0.049987</td>\n",
       "      <td>0.255353</td>\n",
       "      <td>0.279957</td>\n",
       "      <td>1.692981</td>\n",
       "      <td>2.224985</td>\n",
       "      <td>0.470151</td>\n",
       "      <td>-0.504583</td>\n",
       "      <td>-0.921118</td>\n",
       "      <td>0.533690</td>\n",
       "      <td>-0.151591</td>\n",
       "      <td>1.097997</td>\n",
       "      <td>0.761079</td>\n",
       "      <td>-0.469197</td>\n",
       "      <td>-1.548728</td>\n",
       "      <td>미드필더</td>\n",
       "    </tr>\n",
       "    <tr>\n",
       "      <th>1</th>\n",
       "      <td>Joe Willock</td>\n",
       "      <td>-0.310596</td>\n",
       "      <td>0.999624</td>\n",
       "      <td>0.465414</td>\n",
       "      <td>-0.390711</td>\n",
       "      <td>-0.408804</td>\n",
       "      <td>-1.504916</td>\n",
       "      <td>-1.000003</td>\n",
       "      <td>-0.847019</td>\n",
       "      <td>0.443762</td>\n",
       "      <td>0.052268</td>\n",
       "      <td>1.918385</td>\n",
       "      <td>-0.998540</td>\n",
       "      <td>-0.381048</td>\n",
       "      <td>0.321786</td>\n",
       "      <td>0.188396</td>\n",
       "      <td>-0.028878</td>\n",
       "      <td>0.676239</td>\n",
       "      <td>미드필더</td>\n",
       "    </tr>\n",
       "    <tr>\n",
       "      <th>2</th>\n",
       "      <td>Allan Saint-Maximin</td>\n",
       "      <td>0.908030</td>\n",
       "      <td>0.193523</td>\n",
       "      <td>-2.048342</td>\n",
       "      <td>-1.570646</td>\n",
       "      <td>-0.829436</td>\n",
       "      <td>-1.598857</td>\n",
       "      <td>2.445858</td>\n",
       "      <td>2.800986</td>\n",
       "      <td>0.437897</td>\n",
       "      <td>-2.592774</td>\n",
       "      <td>0.769062</td>\n",
       "      <td>-1.110655</td>\n",
       "      <td>-1.184148</td>\n",
       "      <td>1.938892</td>\n",
       "      <td>0.689494</td>\n",
       "      <td>1.328773</td>\n",
       "      <td>-0.165641</td>\n",
       "      <td>공격수</td>\n",
       "    </tr>\n",
       "    <tr>\n",
       "      <th>3</th>\n",
       "      <td>Miguel Almirón</td>\n",
       "      <td>0.664305</td>\n",
       "      <td>0.596573</td>\n",
       "      <td>0.644969</td>\n",
       "      <td>-1.570646</td>\n",
       "      <td>-0.408804</td>\n",
       "      <td>-1.223094</td>\n",
       "      <td>1.345499</td>\n",
       "      <td>1.456984</td>\n",
       "      <td>0.390983</td>\n",
       "      <td>-0.504583</td>\n",
       "      <td>0.498634</td>\n",
       "      <td>-0.979854</td>\n",
       "      <td>0.995695</td>\n",
       "      <td>-0.001635</td>\n",
       "      <td>0.403152</td>\n",
       "      <td>0.154589</td>\n",
       "      <td>0.435702</td>\n",
       "      <td>미드필더</td>\n",
       "    </tr>\n",
       "    <tr>\n",
       "      <th>4</th>\n",
       "      <td>Jamal Lewis</td>\n",
       "      <td>-0.798046</td>\n",
       "      <td>-0.209528</td>\n",
       "      <td>0.734746</td>\n",
       "      <td>-0.248550</td>\n",
       "      <td>0.299630</td>\n",
       "      <td>0.279957</td>\n",
       "      <td>-1.000003</td>\n",
       "      <td>-0.847019</td>\n",
       "      <td>0.314747</td>\n",
       "      <td>-0.643796</td>\n",
       "      <td>-0.853510</td>\n",
       "      <td>-0.643511</td>\n",
       "      <td>0.422052</td>\n",
       "      <td>0.515839</td>\n",
       "      <td>0.689494</td>\n",
       "      <td>-0.762743</td>\n",
       "      <td>-1.909533</td>\n",
       "      <td>미드필더</td>\n",
       "    </tr>\n",
       "  </tbody>\n",
       "</table>\n",
       "</div>"
      ],
      "text/plain": [
       "                    이름         골        도움    태클 성공률        태클     헤더 시도  \\\n",
       "0       Javi Manquillo -0.798046 -0.612579 -0.342579  0.049987  0.255353   \n",
       "1          Joe Willock -0.310596  0.999624  0.465414 -0.390711 -0.408804   \n",
       "2  Allan Saint-Maximin  0.908030  0.193523 -2.048342 -1.570646 -0.829436   \n",
       "3       Miguel Almirón  0.664305  0.596573  0.644969 -1.570646 -0.408804   \n",
       "4          Jamal Lewis -0.798046 -0.209528  0.734746 -0.248550  0.299630   \n",
       "\n",
       "     헤더 성공%  경기 당 드리블       드리블     패스 시도      패스 %  기회 창출/90    Int/90  \\\n",
       "0  0.279957  1.692981  2.224985  0.470151 -0.504583 -0.921118  0.533690   \n",
       "1 -1.504916 -1.000003 -0.847019  0.443762  0.052268  1.918385 -0.998540   \n",
       "2 -1.598857  2.445858  2.800986  0.437897 -2.592774  0.769062 -1.110655   \n",
       "3 -1.223094  1.345499  1.456984  0.390983 -0.504583  0.498634 -0.979854   \n",
       "4  0.279957 -1.000003 -0.847019  0.314747 -0.643796 -0.853510 -0.643511   \n",
       "\n",
       "   달린 거리/90분      Cr A    Cr C/A      슈팅 수   유효 슈팅 %    구분  \n",
       "0  -0.151591  1.097997  0.761079 -0.469197 -1.548728  미드필더  \n",
       "1  -0.381048  0.321786  0.188396 -0.028878  0.676239  미드필더  \n",
       "2  -1.184148  1.938892  0.689494  1.328773 -0.165641   공격수  \n",
       "3   0.995695 -0.001635  0.403152  0.154589  0.435702  미드필더  \n",
       "4   0.422052  0.515839  0.689494 -0.762743 -1.909533  미드필더  "
      ]
     },
     "execution_count": 5,
     "metadata": {},
     "output_type": "execute_result"
    }
   ],
   "source": [
    "sc = StandardScaler()\n",
    "position_df.iloc[:,1:-1] =sc.fit_transform(position_df.iloc[:,1:-1])\n",
    "position_df.head()"
   ]
  },
  {
   "cell_type": "code",
   "execution_count": 10,
   "id": "stunning-percentage",
   "metadata": {
    "ExecuteTime": {
     "end_time": "2021-10-26T08:48:02.865411Z",
     "start_time": "2021-10-26T08:48:02.206262Z"
    }
   },
   "outputs": [],
   "source": [
    "split_count = 5\n",
    "\n",
    "X,Y = position_df.iloc[:,1:-1],position_df.loc[:,'구분']\n",
    "\n",
    "kf = KFold(n_splits= split_count)\n",
    "kf.get_n_splits(X)\n",
    "\n",
    "model_list = []\n",
    "acc_score_list = []\n",
    "\n",
    "for train_index, test_index in kf.split(X):\n",
    "\n",
    "    x_train, x_test = X.values[train_index], X.values[test_index]\n",
    "    y_train, y_test = Y.values[train_index], Y.values[test_index]\n",
    "    \n",
    "    # multi-layer perceptron model. 으로 해봤을때 성능 확인\n",
    "    # created_model = MLPRegressor().fit(x_train, y_train)\n",
    "\n",
    "    # LinearRegression 으로 확인\n",
    "    created_model = RandomForestClassifier(n_estimators=100, oob_score=True, random_state=123).fit(x_train, y_train)\n",
    "    \n",
    "    pred = created_model.predict(x_test)\n",
    "    \n",
    "    acc_score_list.append(accuracy_score(y_test, pred))\n",
    "        \n",
    "    model_list.append(created_model)"
   ]
  },
  {
   "cell_type": "code",
   "execution_count": 11,
   "id": "incomplete-european",
   "metadata": {
    "ExecuteTime": {
     "end_time": "2021-10-26T08:48:13.199531Z",
     "start_time": "2021-10-26T08:48:13.190533Z"
    }
   },
   "outputs": [
    {
     "data": {
      "text/plain": [
       "[RandomForestClassifier(oob_score=True, random_state=123),\n",
       " RandomForestClassifier(oob_score=True, random_state=123),\n",
       " RandomForestClassifier(oob_score=True, random_state=123),\n",
       " RandomForestClassifier(oob_score=True, random_state=123),\n",
       " RandomForestClassifier(oob_score=True, random_state=123)]"
      ]
     },
     "execution_count": 11,
     "metadata": {},
     "output_type": "execute_result"
    }
   ],
   "source": [
    "model_list"
   ]
  },
  {
   "cell_type": "code",
   "execution_count": 12,
   "id": "absolute-tourist",
   "metadata": {
    "ExecuteTime": {
     "end_time": "2021-10-26T08:48:21.652712Z",
     "start_time": "2021-10-26T08:48:21.644712Z"
    }
   },
   "outputs": [
    {
     "data": {
      "text/plain": [
       "[0.9107142857142857,\n",
       " 0.9642857142857143,\n",
       " 0.9272727272727272,\n",
       " 0.8909090909090909,\n",
       " 0.8909090909090909]"
      ]
     },
     "execution_count": 12,
     "metadata": {},
     "output_type": "execute_result"
    }
   ],
   "source": [
    "acc_score_list"
   ]
  },
  {
   "cell_type": "code",
   "execution_count": 13,
   "id": "figured-apple",
   "metadata": {
    "ExecuteTime": {
     "end_time": "2021-10-26T08:49:17.278303Z",
     "start_time": "2021-10-26T08:49:17.240304Z"
    }
   },
   "outputs": [
    {
     "data": {
      "text/html": [
       "<div>\n",
       "<style scoped>\n",
       "    .dataframe tbody tr th:only-of-type {\n",
       "        vertical-align: middle;\n",
       "    }\n",
       "\n",
       "    .dataframe tbody tr th {\n",
       "        vertical-align: top;\n",
       "    }\n",
       "\n",
       "    .dataframe thead th {\n",
       "        text-align: right;\n",
       "    }\n",
       "</style>\n",
       "<table border=\"1\" class=\"dataframe\">\n",
       "  <thead>\n",
       "    <tr style=\"text-align: right;\">\n",
       "      <th></th>\n",
       "      <th>이름</th>\n",
       "      <th>골</th>\n",
       "      <th>도움</th>\n",
       "      <th>태클 성공률</th>\n",
       "      <th>태클</th>\n",
       "      <th>헤더 시도</th>\n",
       "      <th>헤더 성공%</th>\n",
       "      <th>경기 당 드리블</th>\n",
       "      <th>드리블</th>\n",
       "      <th>패스 시도</th>\n",
       "      <th>패스 %</th>\n",
       "      <th>기회 창출/90</th>\n",
       "      <th>Int/90</th>\n",
       "      <th>달린 거리/90분</th>\n",
       "      <th>Cr A</th>\n",
       "      <th>Cr C/A</th>\n",
       "      <th>슈팅 수</th>\n",
       "      <th>유효 슈팅 %</th>\n",
       "      <th>구분</th>\n",
       "      <th>예측 포지션</th>\n",
       "    </tr>\n",
       "  </thead>\n",
       "  <tbody>\n",
       "    <tr>\n",
       "      <th>66</th>\n",
       "      <td>Rodri</td>\n",
       "      <td>-0.554321</td>\n",
       "      <td>-1.015630</td>\n",
       "      <td>1.093854</td>\n",
       "      <td>3.163309</td>\n",
       "      <td>-0.563774</td>\n",
       "      <td>1.360274</td>\n",
       "      <td>-0.536694</td>\n",
       "      <td>-0.655019</td>\n",
       "      <td>-0.922625</td>\n",
       "      <td>1.305182</td>\n",
       "      <td>-0.245046</td>\n",
       "      <td>1.757606</td>\n",
       "      <td>-0.839962</td>\n",
       "      <td>-1.165951</td>\n",
       "      <td>-1.672823</td>\n",
       "      <td>-0.652663</td>\n",
       "      <td>1.397850</td>\n",
       "      <td>미드필더</td>\n",
       "      <td>수비수</td>\n",
       "    </tr>\n",
       "    <tr>\n",
       "      <th>82</th>\n",
       "      <td>Daniel James</td>\n",
       "      <td>-0.310596</td>\n",
       "      <td>-0.612579</td>\n",
       "      <td>-0.163025</td>\n",
       "      <td>0.391173</td>\n",
       "      <td>-1.294346</td>\n",
       "      <td>-1.880679</td>\n",
       "      <td>-1.000003</td>\n",
       "      <td>-0.847019</td>\n",
       "      <td>-1.635139</td>\n",
       "      <td>-1.479072</td>\n",
       "      <td>-0.650689</td>\n",
       "      <td>-0.961169</td>\n",
       "      <td>0.766238</td>\n",
       "      <td>-0.422082</td>\n",
       "      <td>0.832664</td>\n",
       "      <td>-0.322424</td>\n",
       "      <td>0.796507</td>\n",
       "      <td>공격수</td>\n",
       "      <td>미드필더</td>\n",
       "    </tr>\n",
       "  </tbody>\n",
       "</table>\n",
       "</div>"
      ],
      "text/plain": [
       "              이름         골        도움    태클 성공률        태클     헤더 시도    헤더 성공%  \\\n",
       "66         Rodri -0.554321 -1.015630  1.093854  3.163309 -0.563774  1.360274   \n",
       "82  Daniel James -0.310596 -0.612579 -0.163025  0.391173 -1.294346 -1.880679   \n",
       "\n",
       "    경기 당 드리블       드리블     패스 시도      패스 %  기회 창출/90    Int/90  달린 거리/90분  \\\n",
       "66 -0.536694 -0.655019 -0.922625  1.305182 -0.245046  1.757606  -0.839962   \n",
       "82 -1.000003 -0.847019 -1.635139 -1.479072 -0.650689 -0.961169   0.766238   \n",
       "\n",
       "        Cr A    Cr C/A      슈팅 수   유효 슈팅 %    구분 예측 포지션  \n",
       "66 -1.165951 -1.672823 -0.652663  1.397850  미드필더    수비수  \n",
       "82 -0.422082  0.832664 -0.322424  0.796507   공격수   미드필더  "
      ]
     },
     "execution_count": 13,
     "metadata": {},
     "output_type": "execute_result"
    }
   ],
   "source": [
    "# 실제 나의 생각과 예측된 포지션을 비교\n",
    "real_predicted = model_list[1].predict(position_df.iloc[:,1:-1])\n",
    "position_df['예측 포지션'] = real_predicted\n",
    "position_df[position_df['구분']!=position_df['예측 포지션']]"
   ]
  },
  {
   "cell_type": "code",
   "execution_count": 14,
   "id": "exclusive-event",
   "metadata": {
    "ExecuteTime": {
     "end_time": "2021-10-26T08:58:24.789171Z",
     "start_time": "2021-10-26T08:58:24.641115Z"
    }
   },
   "outputs": [
    {
     "data": {
      "text/plain": [
       "['./models/position_model.pkl']"
      ]
     },
     "execution_count": 14,
     "metadata": {},
     "output_type": "execute_result"
    }
   ],
   "source": [
    "# 예측모델 저장\n",
    "joblib.dump(model_list,'./models/position_model.pkl')"
   ]
  }
 ],
 "metadata": {
  "kernelspec": {
   "display_name": "Python 3",
   "language": "python",
   "name": "python3"
  },
  "language_info": {
   "codemirror_mode": {
    "name": "ipython",
    "version": 3
   },
   "file_extension": ".py",
   "mimetype": "text/x-python",
   "name": "python",
   "nbconvert_exporter": "python",
   "pygments_lexer": "ipython3",
   "version": "3.9.1"
  },
  "toc": {
   "base_numbering": 1,
   "nav_menu": {},
   "number_sections": true,
   "sideBar": true,
   "skip_h1_title": false,
   "title_cell": "Table of Contents",
   "title_sidebar": "Contents",
   "toc_cell": false,
   "toc_position": {},
   "toc_section_display": true,
   "toc_window_display": false
  },
  "varInspector": {
   "cols": {
    "lenName": 16,
    "lenType": 16,
    "lenVar": 40
   },
   "kernels_config": {
    "python": {
     "delete_cmd_postfix": "",
     "delete_cmd_prefix": "del ",
     "library": "var_list.py",
     "varRefreshCmd": "print(var_dic_list())"
    },
    "r": {
     "delete_cmd_postfix": ") ",
     "delete_cmd_prefix": "rm(",
     "library": "var_list.r",
     "varRefreshCmd": "cat(var_dic_list()) "
    }
   },
   "types_to_exclude": [
    "module",
    "function",
    "builtin_function_or_method",
    "instance",
    "_Feature"
   ],
   "window_display": false
  }
 },
 "nbformat": 4,
 "nbformat_minor": 5
}
