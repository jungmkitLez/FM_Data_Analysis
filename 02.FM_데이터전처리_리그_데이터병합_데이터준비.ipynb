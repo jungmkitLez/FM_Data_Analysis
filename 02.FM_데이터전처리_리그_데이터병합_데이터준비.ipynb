{
 "cells": [
  {
   "cell_type": "markdown",
   "id": "contemporary-summit",
   "metadata": {},
   "source": [
    "# 필요한 라이브러리 import"
   ]
  },
  {
   "cell_type": "code",
   "execution_count": 1,
   "id": "exempt-pasta",
   "metadata": {
    "ExecuteTime": {
     "end_time": "2021-10-02T07:11:48.088061Z",
     "start_time": "2021-10-02T07:11:47.276358Z"
    }
   },
   "outputs": [],
   "source": [
    "import pandas as pd\n",
    "import os\n",
    "import re\n",
    "import csv\n",
    "import joblib\n",
    "import warnings\n",
    "import numpy as np"
   ]
  },
  {
   "cell_type": "markdown",
   "id": "cathedral-packing",
   "metadata": {},
   "source": [
    "# 사전작업"
   ]
  },
  {
   "cell_type": "code",
   "execution_count": 2,
   "id": "drawn-laptop",
   "metadata": {
    "ExecuteTime": {
     "end_time": "2021-10-02T07:11:49.746215Z",
     "start_time": "2021-10-02T07:11:48.090951Z"
    }
   },
   "outputs": [],
   "source": [
    "warnings.filterwarnings(action='ignore')\n",
    "\n",
    "# 포지션 판정 모델 위치\n",
    "model_path = './models/position_model.pkl'\n",
    "\n",
    "# 초기 데이터 위치(포지션 판정)\n",
    "data_path = './datas/FM_DATA'\n",
    "\n",
    "# 변환된 데이터 위치\n",
    "target_path = './datas/FM_DATA_MERGED'\n",
    "\n",
    "# pyspark Mlib 활용에 맞는 데이터셋을 저장할 위치\n",
    "ml_data_path = './datas/FM_DATA_FOR_ML'\n",
    "\n",
    "# 포지션 판정 모델 불러오기\n",
    "position_predict_model=joblib.load(model_path)\n",
    "\n",
    "# pyspark ml에 사용하기 위해 모든 선수의 데이터를 병합할 데이터 프레임\n",
    "df_for_pyspark = pd.DataFrame(columns = ['태클 성공률','태클','헤더 시도','헤더 성공%','경기 당 드리블','드리블','패스 시도','패스 %','기회 창출/90','Int/90','달린 거리/90분','Cr A','Cr C/A','슈팅 수','유효 슈팅 %','표준획득승점','포지션'])"
   ]
  },
  {
   "cell_type": "markdown",
   "id": "satisfied-belize",
   "metadata": {},
   "source": [
    "# 데이터 전처리"
   ]
  },
  {
   "cell_type": "markdown",
   "id": "qualified-virgin",
   "metadata": {},
   "source": [
    "## 한 시즌의 모든 팀의 데이터를 병합하는 함수"
   ]
  },
  {
   "cell_type": "code",
   "execution_count": 3,
   "id": "handed-hearts",
   "metadata": {
    "ExecuteTime": {
     "end_time": "2021-10-02T07:11:49.762185Z",
     "start_time": "2021-10-02T07:11:49.749001Z"
    }
   },
   "outputs": [],
   "source": [
    "def data_merge(path,season):\n",
    "    # 최종 데이터 프레임 컬럼\n",
    "    var_list = ['이름', '포지션', '구단', '리그', '임대 기간', '승', '무', '패',\n",
    "                '출장시간', '경기당 팀 실점/90', '경기당 팀 득점/90', '골', '도움',\n",
    "                'Cr C/A', 'Cr A', 'FA', '경기 당 드리블', '드리블', '기회 창출/90',\n",
    "                '유효 슈팅 %', '슈팅 수', 'Int/90', '달린 거리/90분', '헤더 성공%'\n",
    "                '헤더 시도', '태클 성공률', '태클', '패스 %', '패스 시도', '시즌']\n",
    "    \n",
    "    # 모든 변수를 가진 데이터 프레임\n",
    "    team_df_whole_league = pd.DataFrame(columns=var_list)\n",
    "\n",
    "    # 특정 경로의 모든 파일 리스트 불러오기(특정리그의 모든 팀들이 저장되어 있음)\n",
    "    file_list = os.listdir(path)\n",
    "    \n",
    "    # 모든 파일을 돌며 -> 각 팀의 통계 자료를 team_df_whole에 합침\n",
    "    for file in file_list:\n",
    "\n",
    "        #불러오기\n",
    "        team_df = pd.read_csv(path+'/'+file,encoding='utf-8')\n",
    "\n",
    "        # NaN 제거\n",
    "        team_df = team_df.dropna()\n",
    "\n",
    "        # 골키퍼는 통계 자료 부족으로 삭제\n",
    "        team_df = team_df[team_df['포지션'] != 'GK']\n",
    "\n",
    "        # 현재 구단의 이름을 추출\n",
    "        team = team_df[team_df['임대 기간']=='-']['구단'].iloc[0]\n",
    "\n",
    "        # -을 0으로 교체\n",
    "        team_df = team_df.replace('-',0)\n",
    "\n",
    "        # 현재 구단에 속해 있으며 출장 시간이 900분을 넘긴 선수만 남김\n",
    "        team_df = team_df[(team_df['구단']==team) & (team_df['출장시간'].astype('int64')>900)]\n",
    "\n",
    "        # 시즌 열을 추가\n",
    "        team_df['시즌'] = season\n",
    "\n",
    "        # team_df_whole_league 에 연결\n",
    "        team_df_whole_league=pd.concat([team_df_whole_league,team_df])\n",
    "        \n",
    "    # team_df_whole_league의 인덱스를 재설정\n",
    "    team_df_whole_league = team_df_whole_league.reset_index(drop=True)\n",
    "    \n",
    "    # nan은 0으로 대체\n",
    "    team_df_whole_league = team_df_whole_league.fillna(0)\n",
    "    \n",
    "    return team_df_whole_league"
   ]
  },
  {
   "cell_type": "markdown",
   "id": "absent-moldova",
   "metadata": {},
   "source": [
    "## 병합된 시즌 전체 선수 데이터에 포지션을 추정하는 함수"
   ]
  },
  {
   "cell_type": "code",
   "execution_count": 4,
   "id": "corporate-advocate",
   "metadata": {
    "ExecuteTime": {
     "end_time": "2021-10-02T07:11:49.777581Z",
     "start_time": "2021-10-02T07:11:49.766701Z"
    }
   },
   "outputs": [],
   "source": [
    "def position_predictor(league_df):\n",
    "    \n",
    "    global position_predict_model\n",
    "    \n",
    "    # 포지션 추정을 위한 컬럼\n",
    "    columns_for_ml = ['이름','시즌','구단','승', '무', '패','출장시간','골','도움','태클 성공률','태클','헤더 시도','헤더 성공%','경기 당 드리블','드리블','패스 시도','패스 %','기회 창출/90','Int/90','달린 거리/90분','Cr A','Cr C/A','슈팅 수','유효 슈팅 %']\n",
    "    \n",
    "    # 포지션 추정을 위한 df\n",
    "    df_for_position_ml = league_df[columns_for_ml]\n",
    "\n",
    "    # 데이터 전처리\n",
    "    df_for_position_ml['Cr C/A'] = df_for_position_ml['Cr C/A'].str.strip('%')\n",
    "\n",
    "    df_for_position_ml['달린 거리/90분'] = df_for_position_ml['달린 거리/90분'].str.strip('km')\n",
    "\n",
    "    df_for_position_ml['태클 성공률'] = df_for_position_ml['태클 성공률'].str.strip('%')\n",
    "\n",
    "    df_for_position_ml['헤더 성공%'] = df_for_position_ml['헤더 성공%'].str.strip('%')\n",
    "\n",
    "    df_for_position_ml['패스 %'] = df_for_position_ml['패스 %'].str.strip('%')\n",
    "\n",
    "    df_for_position_ml['유효 슈팅 %'] = df_for_position_ml['유효 슈팅 %'].str.strip('%')\n",
    "\n",
    "    df_for_position_ml= df_for_position_ml.fillna(0)\n",
    "    \n",
    "    # 판정 결과 저장(포지션 열)\n",
    "    df_for_position_ml['포지션'] = position_predict_model.predict(df_for_position_ml.iloc[:,7:])\n",
    "    \n",
    "    return df_for_position_ml"
   ]
  },
  {
   "cell_type": "markdown",
   "id": "english-failure",
   "metadata": {
    "ExecuteTime": {
     "end_time": "2021-09-29T07:28:15.770208Z",
     "start_time": "2021-09-29T07:28:15.764207Z"
    }
   },
   "source": [
    "## 포지션 추정된 데이터 전처리 및 변환하는 함수"
   ]
  },
  {
   "cell_type": "code",
   "execution_count": 5,
   "id": "stuffed-pioneer",
   "metadata": {
    "ExecuteTime": {
     "end_time": "2021-10-02T07:11:49.793026Z",
     "start_time": "2021-10-02T07:11:49.780694Z"
    }
   },
   "outputs": [],
   "source": [
    "def data_cleaner(df):\n",
    "    \n",
    "    # 판정 후 추가 데이터 전처리 진행,형변환\n",
    "    new_df = df.astype({'승':np.float,'무':np.float,'패':np.float,'태클':np.float,'출장시간':np.float,'헤더 시도':np.float,'헤더 시도':np.float,'패스 시도':np.float,'Cr A':np.float,'슈팅 수':np.float})\n",
    "\n",
    "    # 경기 수 * 경기 당 태클 수로 총 태클 수 구하기\n",
    "    new_df['태클'] = (new_df['승']+new_df['무']+new_df['패'])*new_df['태클']\n",
    "    new_df = new_df.astype({'태클':int})\n",
    "\n",
    "    # 총 태클수를 900분으로 표준화 시킴\n",
    "    new_df['태클'] = np.round(new_df['태클']/new_df['출장시간']*900,2)\n",
    "\n",
    "    # 승점 또한 900분으로 표준화\n",
    "    new_df['표준획득승점'] = np.round((new_df['승']*3 + new_df['무'])/new_df['출장시간']*900,2)\n",
    "\n",
    "    # 총 시도와 관련된 변수들 전부 900분 으로 표준화\n",
    "    new_df['패스 시도'] = np.round(new_df['패스 시도']/new_df['출장시간']*900,2)\n",
    "    new_df['헤더 시도'] = np.round(new_df['헤더 시도']/new_df['출장시간']*900,2)\n",
    "    new_df['슈팅 수'] = np.round(new_df['슈팅 수']/new_df['출장시간']*900,2)\n",
    "    new_df['Cr A'] = np.round(new_df['Cr A']/new_df['출장시간']*900,2)\n",
    "    \n",
    "    return new_df"
   ]
  },
  {
   "cell_type": "markdown",
   "id": "compliant-portugal",
   "metadata": {},
   "source": [
    "# 시즌 별, 리그 단위로 데이터 병합 및 저장"
   ]
  },
  {
   "cell_type": "code",
   "execution_count": 6,
   "id": "abroad-standing",
   "metadata": {
    "ExecuteTime": {
     "end_time": "2021-10-02T07:11:49.809333Z",
     "start_time": "2021-10-02T07:11:49.796609Z"
    }
   },
   "outputs": [],
   "source": [
    "# D:/FM_DATA 내의 목록 가져오기\n",
    "folder_list = os.listdir(data_path)"
   ]
  },
  {
   "cell_type": "code",
   "execution_count": 7,
   "id": "herbal-alexandria",
   "metadata": {
    "ExecuteTime": {
     "end_time": "2021-10-02T07:11:49.824660Z",
     "start_time": "2021-10-02T07:11:49.811462Z"
    }
   },
   "outputs": [],
   "source": [
    "# 시즌을 추출할 정규표현식(숫자)\n",
    "season_re = re.compile('\\d+')\n",
    "\n",
    "# 리그를 추출할 정규표현식(영어+숫자) 예) 프랑스 Ligue1\n",
    "league_re = re.compile('[a-zA-Z0-9]+')"
   ]
  },
  {
   "cell_type": "code",
   "execution_count": 8,
   "id": "other-mineral",
   "metadata": {
    "ExecuteTime": {
     "end_time": "2021-10-02T07:11:52.095914Z",
     "start_time": "2021-10-02T07:11:49.827470Z"
    }
   },
   "outputs": [],
   "source": [
    "# 매 폴더를 돌며\n",
    "for folder in folder_list:\n",
    "\n",
    "    # 상위경로와 하위 경로를 병합할 변수\n",
    "    sub_path = ''\n",
    "\n",
    "    # 폴더명으로 새 경로를 생성\n",
    "    sub_path = os.path.join(data_path,folder)\n",
    "\n",
    "    # 시즌을 추출\n",
    "    season = season_re.findall(folder)\n",
    "\n",
    "    # 리그를 추출\n",
    "    league = league_re.findall(folder)\n",
    "\n",
    "    # 2020-2021의 형태로 시즌을 만들기\n",
    "    season = season[0] + '-' + season[1]\n",
    "\n",
    "    # 한 시즌의 모든 팀들의 데이터를 병합하고 전처리\n",
    "    df_merged = data_merge(sub_path, season)\n",
    "    \n",
    "    # 포지션 모델을 이용해서 선수들의 포지션을 판정\n",
    "    df_with_position = position_predictor(df_merged)\n",
    "    \n",
    "    # 포지션 판정된 데이터 전처리 및 변환\n",
    "    df_clean = data_cleaner(df_with_position)\n",
    "    \n",
    "    # 폴더명과 2020-2021-Ligue1.csv의 형식으로 파일을 저장\n",
    "    csv_path = target_path+'/'+season+'/'+ season +'-'+ league[2]+ '.csv'\n",
    "    csv_file = open(csv_path,'w',newline='',encoding='utf-8')\n",
    "    csvwriter = csv.writer(csv_file)\n",
    "    csvwriter.writerow(['이름','시즌','골','도움','태클 성공률','태클','헤더 시도','헤더 성공%','경기 당 드리블','드리블','패스 시도','패스 %','기회 창출/90','Int/90','달린 거리/90분','Cr A','Cr C/A','슈팅 수','유효 슈팅 %','표준획득승점','포지션'])\n",
    "    for i in range(len(df_clean)):\n",
    "        csvwriter.writerow(df_clean.loc[i,['이름','시즌','골','도움','태클 성공률','태클','헤더 시도','헤더 성공%','경기 당 드리블','드리블','패스 시도','패스 %','기회 창출/90','Int/90','달린 거리/90분','Cr A','Cr C/A','슈팅 수','유효 슈팅 %','표준획득승점','포지션']].tolist())\n",
    "    csv_file.close()\n",
    "    \n",
    "    # pyspark를 위한 df에 연결\n",
    "    df_for_pyspark = pd.concat([df_for_pyspark,df_clean.loc[:,['태클','태클 성공률','헤더 시도','헤더 성공%','경기 당 드리블','드리블','패스 시도','패스 %','기회 창출/90','Int/90','달린 거리/90분','Cr A','Cr C/A','슈팅 수','유효 슈팅 %','표준획득승점','포지션']]])"
   ]
  },
  {
   "cell_type": "code",
   "execution_count": 10,
   "id": "7166f18d",
   "metadata": {
    "ExecuteTime": {
     "end_time": "2021-10-02T07:12:03.494581Z",
     "start_time": "2021-10-02T07:12:02.938303Z"
    }
   },
   "outputs": [],
   "source": [
    "# 포지션을 포함한 df를 저장할 폴더 생성\n",
    "os.makedirs( ml_data_path+'/'+season,exist_ok=True)\n",
    "csv_path = ml_data_path+'/'+season+'/'+ season + 'ML.csv'\n",
    "csv_file = open(csv_path,'w',newline='',encoding='utf-8')\n",
    "csvwriter = csv.writer(csv_file)\n",
    "\n",
    "\n",
    "# pyspark에서 사용가능 하도록 영어 변수로 변경\n",
    "csvwriter.writerow(['tkl','tkl_suc','header_att','header_suc','drib_per_g','drib','pass_att','pass_suc','CC','Int','Dist_covered','Cr_att','Cr_suc','shot','shot_on_t','gen_point','position'])\n",
    "\n",
    "df_for_pyspark.reset_index(drop=True)\n",
    "\n",
    "for i in range(len(df_for_pyspark)):\n",
    "    csvwriter.writerow(df_for_pyspark.iloc[i,:].tolist())\n",
    "csv_file.close()"
   ]
  }
 ],
 "metadata": {
  "kernelspec": {
   "display_name": "Python 3",
   "language": "python",
   "name": "python3"
  },
  "language_info": {
   "codemirror_mode": {
    "name": "ipython",
    "version": 3
   },
   "file_extension": ".py",
   "mimetype": "text/x-python",
   "name": "python",
   "nbconvert_exporter": "python",
   "pygments_lexer": "ipython3",
   "version": "3.9.1"
  },
  "toc": {
   "base_numbering": 1,
   "nav_menu": {},
   "number_sections": true,
   "sideBar": true,
   "skip_h1_title": false,
   "title_cell": "Table of Contents",
   "title_sidebar": "Contents",
   "toc_cell": false,
   "toc_position": {},
   "toc_section_display": true,
   "toc_window_display": false
  },
  "varInspector": {
   "cols": {
    "lenName": 16,
    "lenType": 16,
    "lenVar": 40
   },
   "kernels_config": {
    "python": {
     "delete_cmd_postfix": "",
     "delete_cmd_prefix": "del ",
     "library": "var_list.py",
     "varRefreshCmd": "print(var_dic_list())"
    },
    "r": {
     "delete_cmd_postfix": ") ",
     "delete_cmd_prefix": "rm(",
     "library": "var_list.r",
     "varRefreshCmd": "cat(var_dic_list()) "
    }
   },
   "types_to_exclude": [
    "module",
    "function",
    "builtin_function_or_method",
    "instance",
    "_Feature"
   ],
   "window_display": false
  }
 },
 "nbformat": 4,
 "nbformat_minor": 5
}
