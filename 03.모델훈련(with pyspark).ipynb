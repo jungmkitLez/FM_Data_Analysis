{
 "cells": [
  {
   "cell_type": "markdown",
   "id": "e9dd0864",
   "metadata": {},
   "source": [
    "# 필요한 라이브러리 import"
   ]
  },
  {
   "cell_type": "code",
   "execution_count": 1,
   "id": "9da569b5",
   "metadata": {
    "ExecuteTime": {
     "end_time": "2021-10-02T07:43:37.804163Z",
     "start_time": "2021-10-02T07:43:37.544191Z"
    }
   },
   "outputs": [],
   "source": [
    "from pyspark.sql import SparkSession\n",
    "from pyspark.sql.functions import *\n",
    "from pyspark.sql import SQLContext\n",
    "from pyspark.ml.feature import VectorAssembler\n",
    "from pyspark.ml.regression import LinearRegression\n",
    "import logging\n",
    "import os\n",
    "from json import loads\n",
    "import ast\n",
    "import csv"
   ]
  },
  {
   "cell_type": "markdown",
   "id": "537742a4",
   "metadata": {},
   "source": [
    "# 변수들을 float으로 변환시키는 함수"
   ]
  },
  {
   "cell_type": "code",
   "execution_count": 2,
   "id": "d6adea72",
   "metadata": {
    "ExecuteTime": {
     "end_time": "2021-10-02T07:43:37.819429Z",
     "start_time": "2021-10-02T07:43:37.805213Z"
    }
   },
   "outputs": [],
   "source": [
    "def convert_to_float( df ):\n",
    "    cols = ['tkl','tkl_suc','header_att','header_suc','drib_per_g','drib','pass_att','pass_suc','CC','Int','Dist_covered','Cr_att','Cr_suc','shot','shot_on_t','gen_point']\n",
    "    for col_name in cols:\n",
    "        df = df.withColumn(col_name, col(col_name).cast('float'))\n",
    "    return df"
   ]
  },
  {
   "cell_type": "markdown",
   "id": "a2357cb9",
   "metadata": {},
   "source": [
    "# 선형회귀를 진행하고 도출된 가중치와 절편을 return 하는 함수"
   ]
  },
  {
   "cell_type": "code",
   "execution_count": 3,
   "id": "742381a1",
   "metadata": {
    "ExecuteTime": {
     "end_time": "2021-10-02T07:43:37.834801Z",
     "start_time": "2021-10-02T07:43:37.820500Z"
    }
   },
   "outputs": [],
   "source": [
    "def linear_regression( df ):\n",
    "\n",
    "    # 7:3 train test split\n",
    "    splits = df.randomSplit([0.7,0.3])\n",
    "\n",
    "    train_df = splits[0]\n",
    "    test_df = splits[1]\n",
    "\n",
    "    lr = LinearRegression(featuresCol = 'features', labelCol='gen_point', maxIter=1000, regParam=0.3, elasticNetParam=0.8)\n",
    "    lr_model = lr.fit(train_df)\n",
    "\n",
    "    # 가중치가 str으로 나오므로 ast를 이용해서 리스트로 변경\n",
    "    coef_inter_list = ast.literal_eval(str(lr_model.coefficients))\n",
    "    coef_inter_list.append(str(lr_model.intercept))\n",
    "\n",
    "    return coef_inter_list"
   ]
  },
  {
   "cell_type": "markdown",
   "id": "b2e21f48",
   "metadata": {},
   "source": [
    "# Spark를 사용해서 가중치 절편 구하는 함수"
   ]
  },
  {
   "cell_type": "code",
   "execution_count": 4,
   "id": "155bb1d3",
   "metadata": {
    "ExecuteTime": {
     "end_time": "2021-10-02T07:43:37.849943Z",
     "start_time": "2021-10-02T07:43:37.836878Z"
    }
   },
   "outputs": [],
   "source": [
    "def cal_weight( data_path , weight_path , season):\n",
    "    # 스파크 세션 초기화\n",
    "    spark = SparkSession.builder.appName('myapp') \\\n",
    "                        .master('local[*]').getOrCreate()\n",
    "\n",
    "    # 포지션 판정이 된 데이터를 불러오기\n",
    "    total_path = data_path+'/'+season\n",
    "    file_list = os.listdir(total_path)\n",
    "\n",
    "    for file in file_list:\n",
    "\n",
    "        # pyspark를 이용해서 csv파일 불러오기\n",
    "        df = spark.read.option('header',True).csv(total_path+'/'+file)\n",
    "\n",
    "        #df.printSchema()\n",
    "\n",
    "        # 포지션 별로 spark_df를 분리\n",
    "        forward_df = df.filter(df.position == '공격수')\n",
    "        defender_df = df.filter(df.position == '수비수')\n",
    "        midfielder_df = df.filter(df.position == '미드필더')\n",
    "\n",
    "        # 각 df에서 position 부분을 제외\n",
    "        forward_df = forward_df.drop(forward_df.position)\n",
    "        defender_df = defender_df.drop(defender_df.position)\n",
    "        midfielder_df = midfielder_df.drop(midfielder_df.position)\n",
    "\n",
    "        # 모든 변수를 float로 변환\n",
    "        forward_df = convert_to_float(forward_df)\n",
    "        defender_df = convert_to_float(defender_df)\n",
    "        midfielder_df = convert_to_float(midfielder_df)\n",
    "\n",
    "\n",
    "        # 각 포지션 별 df에 사용할 column을 정의\n",
    "        forward_col = ['pass_att','pass_suc','CC','drib_per_g','drib','Cr_att','Cr_suc','shot','shot_on_t']\n",
    "        defender_col = ['tkl','tkl_suc','header_att','header_suc','pass_att','pass_suc','Int']\n",
    "        midfielder_col = ['tkl','tkl_suc','pass_att','pass_suc','Dist_covered','CC','drib_per_g','drib','Cr_att','Cr_suc']\n",
    "\n",
    "        # 변수를 inputCols로 하고 지도학습을 위한 결과를 outputCol로 하는 VectorAssembler객체를 생성\n",
    "        forward_VA = VectorAssembler(inputCols = forward_col , outputCol = 'features')\n",
    "        defender_VA = VectorAssembler(inputCols = defender_col , outputCol = 'features')\n",
    "        midfielder_VA = VectorAssembler(inputCols = midfielder_col , outputCol = 'features')\n",
    "\n",
    "        # VectorAssembler객체를 이용해서 데이터 변환\n",
    "        forward_df = forward_VA.transform(forward_df)\n",
    "        defender_df = defender_VA.transform(defender_df)\n",
    "        midfielder_df = midfielder_VA.transform(midfielder_df)\n",
    "\n",
    "        forward_df = forward_df.select(['features','gen_point'])\n",
    "        defender_df = defender_df.select(['features','gen_point'])\n",
    "        midfielder_df = midfielder_df.select(['features','gen_point'])\n",
    "\n",
    "        forward_coef_inter_list = linear_regression(forward_df)\n",
    "        defender_coef_inter_list = linear_regression(defender_df)\n",
    "        midfielder_coef_inter_list = linear_regression(midfielder_df)\n",
    "\n",
    "        # 가중치와 절편을 저장할 폴더 생성\n",
    "        os.makedirs(weight_path+'/'+season,exist_ok=True)\n",
    "\n",
    "\n",
    "        # csv 파일로 가중치와 절편을 저장\n",
    "        with open(weight_path+'/'+season+'/forward_weights.csv', 'w', newline='',encoding='utf-8') as f:\n",
    "            writer = csv.writer(f)\n",
    "            writer.writerow(['패스 시도', '패스 %','기회 창출/90','경기 당 드리블','드리블','Cr A', 'Cr C/A','슈팅 수', '유효 슈팅 %','절편'])\n",
    "            writer.writerow(forward_coef_inter_list)\n",
    "\n",
    "        with open(weight_path+'/'+season+'/midfielder_weights.csv', 'w', newline='',encoding='utf-8') as f:\n",
    "            writer = csv.writer(f)\n",
    "            writer.writerow(['태클','태클 성공률','패스 시도', '패스 %','달린 거리/90분','기회 창출/90','경기 당 드리블','드리블','Cr A', 'Cr C/A','절편'])\n",
    "            writer.writerow(midfielder_coef_inter_list)\n",
    "\n",
    "        with open(weight_path+'/'+season+'/defender_weights.csv', 'w', newline='',encoding='utf-8') as f:\n",
    "            writer = csv.writer(f)\n",
    "            writer.writerow(['태클','태클 성공률','헤더 시도','헤더 성공%','패스 시도', '패스 %','Int/90','절편'])\n",
    "            writer.writerow(defender_coef_inter_list)"
   ]
  },
  {
   "cell_type": "code",
   "execution_count": 5,
   "id": "8ff5a7c1",
   "metadata": {
    "ExecuteTime": {
     "end_time": "2021-10-02T07:43:50.643223Z",
     "start_time": "2021-10-02T07:43:37.852069Z"
    }
   },
   "outputs": [],
   "source": [
    "ml_data_path = './datas/FM_DATA_FOR_ML'\n",
    "\n",
    "season = '2020-2021'\n",
    "\n",
    "weight_path = './datas/FM_DATA_WEIGHT'\n",
    "\n",
    "os.makedirs( weight_path+'/'+season,exist_ok=True)\n",
    "\n",
    "cal_weight( ml_data_path  , weight_path , season)"
   ]
  }
 ],
 "metadata": {
  "kernelspec": {
   "display_name": "Python 3",
   "language": "python",
   "name": "python3"
  },
  "language_info": {
   "codemirror_mode": {
    "name": "ipython",
    "version": 3
   },
   "file_extension": ".py",
   "mimetype": "text/x-python",
   "name": "python",
   "nbconvert_exporter": "python",
   "pygments_lexer": "ipython3",
   "version": "3.9.1"
  },
  "toc": {
   "base_numbering": 1,
   "nav_menu": {},
   "number_sections": true,
   "sideBar": true,
   "skip_h1_title": false,
   "title_cell": "Table of Contents",
   "title_sidebar": "Contents",
   "toc_cell": false,
   "toc_position": {},
   "toc_section_display": true,
   "toc_window_display": false
  },
  "varInspector": {
   "cols": {
    "lenName": 16,
    "lenType": 16,
    "lenVar": 40
   },
   "kernels_config": {
    "python": {
     "delete_cmd_postfix": "",
     "delete_cmd_prefix": "del ",
     "library": "var_list.py",
     "varRefreshCmd": "print(var_dic_list())"
    },
    "r": {
     "delete_cmd_postfix": ") ",
     "delete_cmd_prefix": "rm(",
     "library": "var_list.r",
     "varRefreshCmd": "cat(var_dic_list()) "
    }
   },
   "position": {
    "height": "144.83px",
    "left": "1373.42px",
    "right": "20px",
    "top": "128.983px",
    "width": "350px"
   },
   "types_to_exclude": [
    "module",
    "function",
    "builtin_function_or_method",
    "instance",
    "_Feature"
   ],
   "window_display": false
  }
 },
 "nbformat": 4,
 "nbformat_minor": 5
}
